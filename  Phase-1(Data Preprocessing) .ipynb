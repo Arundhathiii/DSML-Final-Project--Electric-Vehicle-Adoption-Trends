{
 "cells": [
  {
   "cell_type": "markdown",
   "id": "90643a7d-0d31-44d5-ac1b-3425ebd9e8ef",
   "metadata": {},
   "source": [
    "# Introduction\n",
    "The goal of this project is to analyze the Electric Vehicle Population Data dataset and predict the Base MSRP of electric vehicles based on their characteristics. The dataset contains information on various electric vehicle models, including their range, battery capacity, and price."
   ]
  },
  {
   "cell_type": "markdown",
   "id": "96edcc68-0e4f-4cf4-80f8-4854afe70a6f",
   "metadata": {},
   "source": [
    "## Problem Statement\n",
    "The goal of this project is to develop a predictive model that can accurately forecast the Base MSRP of electric vehicles based on their characteristics. This model can be used by EV manufacturers, policymakers, and industry analysts to better understand the factors that influence EV pricing and to make informed decisions.\n",
    "* Project Type : Supervised Learning - Regression\n",
    "* Target Variable: Base MSRP"
   ]
  },
  {
   "cell_type": "markdown",
   "id": "34d4dbbe-aece-422e-84f0-0f111b78add5",
   "metadata": {},
   "source": [
    "# Data Preprocessing"
   ]
  },
  {
   "cell_type": "markdown",
   "id": "0b58ef3a-01bd-469f-a5bc-f2f7cf0ff2a5",
   "metadata": {},
   "source": [
    "## Importing necessary libraries"
   ]
  },
  {
   "cell_type": "code",
   "execution_count": 4,
   "id": "8febe572-47e4-4c7f-95c9-d4b5c7ea7fdf",
   "metadata": {},
   "outputs": [],
   "source": [
    "# to deactivate warnings\n",
    "import warnings\n",
    "import sys\n",
    "if not sys.warnoptions:\n",
    "    warnings.simplefilter(\"ignore\")"
   ]
  },
  {
   "cell_type": "code",
   "execution_count": 129,
   "id": "2db32838-65be-49be-ac53-6d7a6abc5403",
   "metadata": {},
   "outputs": [],
   "source": [
    "import numpy as np\n",
    "import pandas as pd\n",
    "import matplotlib.pyplot as plt\n",
    "import seaborn as sns"
   ]
  },
  {
   "cell_type": "markdown",
   "id": "c1cd3131-41e7-4df3-9fc7-359780dd6484",
   "metadata": {},
   "source": [
    "1. Acquire the dataset\n",
    "2. Importing libraries\n",
    "3. Importing datasets\n",
    "4. Finding missing data\n",
    "5. Finding and Handling outliers\n",
    "6. Encoding Categorical Data\n",
    "7. Featuring (column) Selection\n",
    "8. Splitting the dataset\n",
    "9. Feature scaling"
   ]
  },
  {
   "cell_type": "markdown",
   "id": "1081e003-0cdd-415f-9a3e-d6102b2ac10f",
   "metadata": {},
   "source": [
    "## Importing Datasets"
   ]
  },
  {
   "cell_type": "code",
   "execution_count": 7,
   "id": "cd5882f4-f38d-46f8-ab4c-2d6ed2b770cc",
   "metadata": {},
   "outputs": [],
   "source": [
    "data = pd.read_csv(\"C:\\\\Users\\\\aniru\\\\Downloads\\\\Electric_Vehicle_Population_Data (4).csv\")"
   ]
  },
  {
   "cell_type": "code",
   "execution_count": 10,
   "id": "6a493a77-eb2f-4c86-a94e-7c7a7d25c9ec",
   "metadata": {},
   "outputs": [
    {
     "name": "stdout",
     "output_type": "stream",
     "text": [
      "Shape of the dataset is: \n"
     ]
    },
    {
     "data": {
      "text/plain": [
       "(223995, 17)"
      ]
     },
     "execution_count": 10,
     "metadata": {},
     "output_type": "execute_result"
    }
   ],
   "source": [
    "print(\"Shape of the dataset is: \")\n",
    "data.shape"
   ]
  },
  {
   "cell_type": "code",
   "execution_count": 12,
   "id": "025c49d5-fdd1-4ef8-86a1-44dfee8e8385",
   "metadata": {},
   "outputs": [
    {
     "name": "stdout",
     "output_type": "stream",
     "text": [
      "Columns: \n"
     ]
    },
    {
     "data": {
      "text/plain": [
       "Index(['VIN (1-10)', 'County', 'City', 'State', 'Postal Code', 'Model Year',\n",
       "       'Make', 'Model', 'Electric Vehicle Type',\n",
       "       'Clean Alternative Fuel Vehicle (CAFV) Eligibility', 'Electric Range',\n",
       "       'Base MSRP', 'Legislative District', 'DOL Vehicle ID',\n",
       "       'Vehicle Location', 'Electric Utility', '2020 Census Tract'],\n",
       "      dtype='object')"
      ]
     },
     "execution_count": 12,
     "metadata": {},
     "output_type": "execute_result"
    }
   ],
   "source": [
    "print(\"Columns: \")\n",
    "data.columns"
   ]
  },
  {
   "cell_type": "code",
   "execution_count": 14,
   "id": "00a1d0a7-c21b-4d4a-a8d3-14d8476faf0a",
   "metadata": {},
   "outputs": [
    {
     "name": "stdout",
     "output_type": "stream",
     "text": [
      "Dataset Information:\n",
      "\t\n",
      "<class 'pandas.core.frame.DataFrame'>\n",
      "RangeIndex: 223995 entries, 0 to 223994\n",
      "Data columns (total 17 columns):\n",
      " #   Column                                             Non-Null Count   Dtype  \n",
      "---  ------                                             --------------   -----  \n",
      " 0   VIN (1-10)                                         223995 non-null  object \n",
      " 1   County                                             223992 non-null  object \n",
      " 2   City                                               223992 non-null  object \n",
      " 3   State                                              223995 non-null  object \n",
      " 4   Postal Code                                        223992 non-null  float64\n",
      " 5   Model Year                                         223995 non-null  int64  \n",
      " 6   Make                                               223995 non-null  object \n",
      " 7   Model                                              223995 non-null  object \n",
      " 8   Electric Vehicle Type                              223995 non-null  object \n",
      " 9   Clean Alternative Fuel Vehicle (CAFV) Eligibility  223995 non-null  object \n",
      " 10  Electric Range                                     223977 non-null  float64\n",
      " 11  Base MSRP                                          223977 non-null  float64\n",
      " 12  Legislative District                               223521 non-null  float64\n",
      " 13  DOL Vehicle ID                                     223995 non-null  int64  \n",
      " 14  Vehicle Location                                   223985 non-null  object \n",
      " 15  Electric Utility                                   223992 non-null  object \n",
      " 16  2020 Census Tract                                  223992 non-null  float64\n",
      "dtypes: float64(5), int64(2), object(10)\n",
      "memory usage: 29.1+ MB\n"
     ]
    }
   ],
   "source": [
    "print(\"Dataset Information:\")\n",
    "print(\"\\t\")\n",
    "data.info()"
   ]
  },
  {
   "cell_type": "code",
   "execution_count": 16,
   "id": "67c2cebb-97b5-4f37-add1-b2c6e9eddd4f",
   "metadata": {},
   "outputs": [
    {
     "name": "stdout",
     "output_type": "stream",
     "text": [
      "Summary Statistics: \n",
      "\t\n"
     ]
    },
    {
     "data": {
      "text/html": [
       "<div>\n",
       "<style scoped>\n",
       "    .dataframe tbody tr th:only-of-type {\n",
       "        vertical-align: middle;\n",
       "    }\n",
       "\n",
       "    .dataframe tbody tr th {\n",
       "        vertical-align: top;\n",
       "    }\n",
       "\n",
       "    .dataframe thead th {\n",
       "        text-align: right;\n",
       "    }\n",
       "</style>\n",
       "<table border=\"1\" class=\"dataframe\">\n",
       "  <thead>\n",
       "    <tr style=\"text-align: right;\">\n",
       "      <th></th>\n",
       "      <th>Postal Code</th>\n",
       "      <th>Model Year</th>\n",
       "      <th>Electric Range</th>\n",
       "      <th>Base MSRP</th>\n",
       "      <th>Legislative District</th>\n",
       "      <th>DOL Vehicle ID</th>\n",
       "      <th>2020 Census Tract</th>\n",
       "    </tr>\n",
       "  </thead>\n",
       "  <tbody>\n",
       "    <tr>\n",
       "      <th>count</th>\n",
       "      <td>223992.000000</td>\n",
       "      <td>223995.000000</td>\n",
       "      <td>223977.000000</td>\n",
       "      <td>223977.000000</td>\n",
       "      <td>223521.000000</td>\n",
       "      <td>2.239950e+05</td>\n",
       "      <td>2.239920e+05</td>\n",
       "    </tr>\n",
       "    <tr>\n",
       "      <th>mean</th>\n",
       "      <td>98176.491165</td>\n",
       "      <td>2021.264408</td>\n",
       "      <td>47.736187</td>\n",
       "      <td>829.894386</td>\n",
       "      <td>28.876361</td>\n",
       "      <td>2.329328e+08</td>\n",
       "      <td>5.297997e+10</td>\n",
       "    </tr>\n",
       "    <tr>\n",
       "      <th>std</th>\n",
       "      <td>2544.240509</td>\n",
       "      <td>2.989676</td>\n",
       "      <td>84.987140</td>\n",
       "      <td>7372.509049</td>\n",
       "      <td>14.911023</td>\n",
       "      <td>6.884329e+07</td>\n",
       "      <td>1.531491e+09</td>\n",
       "    </tr>\n",
       "    <tr>\n",
       "      <th>min</th>\n",
       "      <td>1731.000000</td>\n",
       "      <td>1999.000000</td>\n",
       "      <td>0.000000</td>\n",
       "      <td>0.000000</td>\n",
       "      <td>1.000000</td>\n",
       "      <td>4.385000e+03</td>\n",
       "      <td>1.001020e+09</td>\n",
       "    </tr>\n",
       "    <tr>\n",
       "      <th>25%</th>\n",
       "      <td>98052.000000</td>\n",
       "      <td>2020.000000</td>\n",
       "      <td>0.000000</td>\n",
       "      <td>0.000000</td>\n",
       "      <td>17.000000</td>\n",
       "      <td>2.008002e+08</td>\n",
       "      <td>5.303301e+10</td>\n",
       "    </tr>\n",
       "    <tr>\n",
       "      <th>50%</th>\n",
       "      <td>98126.000000</td>\n",
       "      <td>2022.000000</td>\n",
       "      <td>0.000000</td>\n",
       "      <td>0.000000</td>\n",
       "      <td>32.000000</td>\n",
       "      <td>2.482992e+08</td>\n",
       "      <td>5.303303e+10</td>\n",
       "    </tr>\n",
       "    <tr>\n",
       "      <th>75%</th>\n",
       "      <td>98374.000000</td>\n",
       "      <td>2023.000000</td>\n",
       "      <td>39.000000</td>\n",
       "      <td>0.000000</td>\n",
       "      <td>42.000000</td>\n",
       "      <td>2.673973e+08</td>\n",
       "      <td>5.305307e+10</td>\n",
       "    </tr>\n",
       "    <tr>\n",
       "      <th>max</th>\n",
       "      <td>99577.000000</td>\n",
       "      <td>2025.000000</td>\n",
       "      <td>337.000000</td>\n",
       "      <td>845000.000000</td>\n",
       "      <td>49.000000</td>\n",
       "      <td>4.792548e+08</td>\n",
       "      <td>5.602100e+10</td>\n",
       "    </tr>\n",
       "  </tbody>\n",
       "</table>\n",
       "</div>"
      ],
      "text/plain": [
       "         Postal Code     Model Year  Electric Range      Base MSRP  \\\n",
       "count  223992.000000  223995.000000   223977.000000  223977.000000   \n",
       "mean    98176.491165    2021.264408       47.736187     829.894386   \n",
       "std      2544.240509       2.989676       84.987140    7372.509049   \n",
       "min      1731.000000    1999.000000        0.000000       0.000000   \n",
       "25%     98052.000000    2020.000000        0.000000       0.000000   \n",
       "50%     98126.000000    2022.000000        0.000000       0.000000   \n",
       "75%     98374.000000    2023.000000       39.000000       0.000000   \n",
       "max     99577.000000    2025.000000      337.000000  845000.000000   \n",
       "\n",
       "       Legislative District  DOL Vehicle ID  2020 Census Tract  \n",
       "count         223521.000000    2.239950e+05       2.239920e+05  \n",
       "mean              28.876361    2.329328e+08       5.297997e+10  \n",
       "std               14.911023    6.884329e+07       1.531491e+09  \n",
       "min                1.000000    4.385000e+03       1.001020e+09  \n",
       "25%               17.000000    2.008002e+08       5.303301e+10  \n",
       "50%               32.000000    2.482992e+08       5.303303e+10  \n",
       "75%               42.000000    2.673973e+08       5.305307e+10  \n",
       "max               49.000000    4.792548e+08       5.602100e+10  "
      ]
     },
     "execution_count": 16,
     "metadata": {},
     "output_type": "execute_result"
    }
   ],
   "source": [
    "print(\"Summary Statistics: \")\n",
    "print(\"\\t\")\n",
    "data.describe()"
   ]
  },
  {
   "cell_type": "code",
   "execution_count": 18,
   "id": "30bfd818-c0de-49e3-b210-615dbeb55dcb",
   "metadata": {},
   "outputs": [
    {
     "name": "stdout",
     "output_type": "stream",
     "text": [
      "Unique Values: \n",
      "\t\n"
     ]
    },
    {
     "data": {
      "text/plain": [
       "VIN (1-10)                                            13175\n",
       "County                                                  207\n",
       "City                                                    789\n",
       "State                                                    48\n",
       "Postal Code                                             954\n",
       "Model Year                                               21\n",
       "Make                                                     46\n",
       "Model                                                   164\n",
       "Electric Vehicle Type                                     2\n",
       "Clean Alternative Fuel Vehicle (CAFV) Eligibility         3\n",
       "Electric Range                                          109\n",
       "Base MSRP                                                31\n",
       "Legislative District                                     49\n",
       "DOL Vehicle ID                                       223995\n",
       "Vehicle Location                                        952\n",
       "Electric Utility                                         76\n",
       "2020 Census Tract                                      2192\n",
       "dtype: int64"
      ]
     },
     "execution_count": 18,
     "metadata": {},
     "output_type": "execute_result"
    }
   ],
   "source": [
    "print(\"Unique Values: \")\n",
    "print(\"\\t\")\n",
    "data.nunique()"
   ]
  },
  {
   "cell_type": "markdown",
   "id": "1b87de78-7759-4254-a179-598aa365d67a",
   "metadata": {},
   "source": [
    "### Finding missing values"
   ]
  },
  {
   "cell_type": "code",
   "execution_count": 20,
   "id": "624109e5-e7e9-48e6-8612-6b1560cb5416",
   "metadata": {},
   "outputs": [
    {
     "name": "stdout",
     "output_type": "stream",
     "text": [
      "Missing Values:\n",
      "\t\n",
      "VIN (1-10)                                             0\n",
      "County                                                 3\n",
      "City                                                   3\n",
      "State                                                  0\n",
      "Postal Code                                            3\n",
      "Model Year                                             0\n",
      "Make                                                   0\n",
      "Model                                                  0\n",
      "Electric Vehicle Type                                  0\n",
      "Clean Alternative Fuel Vehicle (CAFV) Eligibility      0\n",
      "Electric Range                                        18\n",
      "Base MSRP                                             18\n",
      "Legislative District                                 474\n",
      "DOL Vehicle ID                                         0\n",
      "Vehicle Location                                      10\n",
      "Electric Utility                                       3\n",
      "2020 Census Tract                                      3\n",
      "dtype: int64\n"
     ]
    }
   ],
   "source": [
    "missing_values = data.isnull().sum()\n",
    "print(\"Missing Values:\")\n",
    "print(\"\\t\")\n",
    "print(missing_values)"
   ]
  },
  {
   "cell_type": "markdown",
   "id": "95151c7a-ebeb-4143-b178-c36a5a41f958",
   "metadata": {},
   "source": [
    "### Handling Missing values\n",
    "* Fill the missing values with mean(For numerical columns)"
   ]
  },
  {
   "cell_type": "code",
   "execution_count": 22,
   "id": "99812fde-c9f6-4098-b2fc-774141abd8cc",
   "metadata": {},
   "outputs": [],
   "source": [
    "data['Electric Range'].fillna(data['Electric Range'].mean(), inplace=True)\n",
    "data['Base MSRP'].fillna(data['Base MSRP'].mean(), inplace=True)\n",
    "data['Postal Code'].fillna(data['Postal Code'].mean(), inplace=True)\n",
    "data['2020 Census Tract'].fillna(data['2020 Census Tract'].mean(), inplace=True)"
   ]
  },
  {
   "cell_type": "markdown",
   "id": "4281346e-52b7-4693-b97c-ddafbb855865",
   "metadata": {},
   "source": [
    "* Fill the missing values with mode(For categorical columns )"
   ]
  },
  {
   "cell_type": "code",
   "execution_count": 24,
   "id": "cf2d2f7f-dc9f-4a1c-9c84-bcf846cc51b2",
   "metadata": {},
   "outputs": [],
   "source": [
    "data['County'].fillna(data['County'].mode()[0], inplace=True)\n",
    "data['City'].fillna(data['City'].mode()[0], inplace=True)\n",
    "data['State'].fillna(data['State'].mode()[0], inplace=True)\n",
    "data['Vehicle Location'].fillna(data['Vehicle Location'].mode()[0], inplace=True)\n",
    "data['Electric Utility'].fillna(data['Electric Utility'].mode()[0], inplace=True)\n",
    "data['Legislative District'].fillna(data['Legislative District'].mode()[0], inplace=True)"
   ]
  },
  {
   "cell_type": "code",
   "execution_count": 35,
   "id": "ac0703c7-a44e-4a1a-b1dd-8fdfad4e05ed",
   "metadata": {},
   "outputs": [
    {
     "name": "stdout",
     "output_type": "stream",
     "text": [
      "Missing Values after Imputation:\n",
      "VIN (1-10)                                           0\n",
      "County                                               0\n",
      "City                                                 0\n",
      "State                                                0\n",
      "Postal Code                                          0\n",
      "Model Year                                           0\n",
      "Make                                                 0\n",
      "Model                                                0\n",
      "Electric Vehicle Type                                0\n",
      "Clean Alternative Fuel Vehicle (CAFV) Eligibility    0\n",
      "Electric Range                                       0\n",
      "Base MSRP                                            0\n",
      "Legislative District                                 0\n",
      "DOL Vehicle ID                                       0\n",
      "Vehicle Location                                     0\n",
      "Electric Utility                                     0\n",
      "2020 Census Tract                                    0\n",
      "dtype: int64\n"
     ]
    }
   ],
   "source": [
    "# Checking for the null values after imputation\n",
    "missing_values = data.isnull().sum()\n",
    "print(\"Missing Values after Imputation:\")\n",
    "print(missing_values)"
   ]
  },
  {
   "cell_type": "markdown",
   "id": "10ef76d3-79cf-469a-a417-698995d83c7b",
   "metadata": {},
   "source": [
    "### Checking for duplicates"
   ]
  },
  {
   "cell_type": "code",
   "execution_count": 28,
   "id": "36a21c2d-f858-42b8-a2ee-9aadb5eec8a2",
   "metadata": {},
   "outputs": [
    {
     "name": "stdout",
     "output_type": "stream",
     "text": [
      "\t\n",
      "Total number of duplicate values is : 0\n"
     ]
    }
   ],
   "source": [
    "print(\"\\t\")\n",
    "print(f\"Total number of duplicate values is : {data.duplicated().sum()}\")"
   ]
  },
  {
   "cell_type": "markdown",
   "id": "31301fb3-05a3-4a32-a46d-8cddd2aa5d6b",
   "metadata": {},
   "source": [
    "### Finding and Handling outliers\n",
    "* Find Outliers using the IQR method"
   ]
  },
  {
   "cell_type": "code",
   "execution_count": 48,
   "id": "b356d42d-c525-4349-8b16-191ba67b4b1e",
   "metadata": {},
   "outputs": [
    {
     "name": "stdout",
     "output_type": "stream",
     "text": [
      "Outliers in Postal Code: 14600\n",
      "Outliers in Model Year: 14605\n",
      "Outliers in Electric Range: 37715\n",
      "Outliers in Base MSRP: 3278\n",
      "Outliers in Legislative District: 0\n",
      "Outliers in DOL Vehicle ID: 9928\n",
      "Outliers in 2020 Census Tract: 551\n"
     ]
    }
   ],
   "source": [
    "# Find outliers in all numerical columns\n",
    "numerical_cols = data.select_dtypes(include=['int64', 'float64']).columns\n",
    "for col in numerical_cols:\n",
    "    Q1 = data[col].quantile(0.25)\n",
    "    Q3 = data[col].quantile(0.75)\n",
    "    IQR = Q3 - Q1\n",
    "    outliers = data[col][(data[col] < (Q1 - 1.5 * IQR)) | (data[col] > (Q3 + 1.5 * IQR))]\n",
    "    print(f'Outliers in {col}: {outliers.shape[0]}')"
   ]
  },
  {
   "cell_type": "code",
   "execution_count": 61,
   "id": "a7609dee-7097-45b0-a6f8-f513b1cc9b55",
   "metadata": {},
   "outputs": [],
   "source": [
    "data_cleaned = data.copy()"
   ]
  },
  {
   "cell_type": "code",
   "execution_count": 81,
   "id": "78974674-60cc-4a98-a6c6-d713658e8ee8",
   "metadata": {},
   "outputs": [],
   "source": [
    "# Remove outliers from the dataset\n",
    "numerical_cols = data_cleaned.select_dtypes(include=['int64', 'float64']).columns\n",
    "for col in numerical_cols:\n",
    "    Q1 = data_cleaned[col].quantile(0.25)\n",
    "    Q3 = data_cleaned[col].quantile(0.75)\n",
    "    IQR = Q3 - Q1\n",
    "    data = data_cleaned[~((data_cleaned[col] < (Q1 - 1.5 * IQR)) | (data_cleaned[col] > (Q3 + 1.5 * IQR)))]"
   ]
  },
  {
   "cell_type": "markdown",
   "id": "24e8101c-627a-465e-8378-1480bd8b6e05",
   "metadata": {},
   "source": [
    "### Encoding Categorical Data"
   ]
  },
  {
   "cell_type": "code",
   "execution_count": 86,
   "id": "71692176-7b79-4683-a39c-91d7436e62f8",
   "metadata": {},
   "outputs": [],
   "source": [
    "from sklearn.preprocessing import LabelEncoder"
   ]
  },
  {
   "cell_type": "code",
   "execution_count": 113,
   "id": "4a1d83a7-0076-4730-a1c8-d4c5469e8219",
   "metadata": {},
   "outputs": [],
   "source": [
    "# Converting categorical variables into numerical variables \n",
    "categorical_cols = ['VIN (1-10)','County', 'City', 'State', 'Make', 'Model', 'Electric Vehicle Type', 'Clean Alternative Fuel Vehicle (CAFV) Eligibility', \n",
    "                    'Legislative District', 'Vehicle Location', 'Electric Utility']\n",
    "le = LabelEncoder()\n",
    "for col in categorical_cols:\n",
    "    data_cleaned[col] = le.fit_transform(data_cleaned[col])"
   ]
  },
  {
   "cell_type": "markdown",
   "id": "02bc660f-6284-4e67-82eb-3fa7de125c32",
   "metadata": {},
   "source": [
    "### Featuring (Column) Selection"
   ]
  },
  {
   "cell_type": "code",
   "execution_count": 93,
   "id": "fcd3dfe8-1eeb-4e2e-8a04-2194f535d3a9",
   "metadata": {},
   "outputs": [],
   "source": [
    "X = data_cleaned.drop('Base MSRP', axis=1)\n",
    "y = data_cleaned['Base MSRP']"
   ]
  },
  {
   "cell_type": "markdown",
   "id": "41e9c176-56d2-4f9c-b17f-869bf43d2900",
   "metadata": {},
   "source": [
    "### Splitting the Dataset\n",
    "* Split the data into training and testing sets "
   ]
  },
  {
   "cell_type": "code",
   "execution_count": 96,
   "id": "3bed3090-8b71-479a-bda2-900b89d4eebd",
   "metadata": {},
   "outputs": [],
   "source": [
    "from sklearn.model_selection import train_test_split"
   ]
  },
  {
   "cell_type": "code",
   "execution_count": 98,
   "id": "3ca531bd-08eb-4098-b116-24a741251755",
   "metadata": {},
   "outputs": [],
   "source": [
    "X_train, X_test, y_train, y_test = train_test_split(X, y, test_size=0.2, random_state=42)"
   ]
  },
  {
   "cell_type": "markdown",
   "id": "bb8f79fa-2054-456a-96c3-ea1aea87891f",
   "metadata": {},
   "source": [
    "### Feature Scaling\n",
    "* Scale the data using StandardScaler"
   ]
  },
  {
   "cell_type": "code",
   "execution_count": 105,
   "id": "9eca3306-c357-47c2-98fb-875860cb5e73",
   "metadata": {},
   "outputs": [],
   "source": [
    "from sklearn.preprocessing import StandardScaler"
   ]
  },
  {
   "cell_type": "code",
   "execution_count": 125,
   "id": "cf3081f6-6cdf-4b0f-a486-abdf5a43101c",
   "metadata": {},
   "outputs": [],
   "source": [
    "categorical_cols = X_train.select_dtypes(include=['object']).columns\n",
    "X_train_cat = pd.get_dummies(X_train[categorical_cols])\n",
    "X_test_cat = pd.get_dummies(X_test[categorical_cols])"
   ]
  },
  {
   "cell_type": "code",
   "execution_count": 127,
   "id": "2bb02166-c0f2-4209-bd23-1a188c133812",
   "metadata": {},
   "outputs": [],
   "source": [
    "# Scale the numeric columns\n",
    "numeric_cols = X_train.select_dtypes(include=['int64', 'float64']).columns\n",
    "scaler = StandardScaler()\n",
    "X_train_scaled = scaler.fit_transform(X_train[numeric_cols])\n",
    "X_test_scaled = scaler.transform(X_test[numeric_cols])"
   ]
  },
  {
   "cell_type": "code",
   "execution_count": null,
   "id": "101445c9-fb0c-4aa8-8961-c191f24f7129",
   "metadata": {},
   "outputs": [],
   "source": []
  },
  {
   "cell_type": "code",
   "execution_count": null,
   "id": "102dd9b8-cffe-442d-b0a1-61c1640d5720",
   "metadata": {},
   "outputs": [],
   "source": []
  }
 ],
 "metadata": {
  "kernelspec": {
   "display_name": "Python 3 (ipykernel)",
   "language": "python",
   "name": "python3"
  },
  "language_info": {
   "codemirror_mode": {
    "name": "ipython",
    "version": 3
   },
   "file_extension": ".py",
   "mimetype": "text/x-python",
   "name": "python",
   "nbconvert_exporter": "python",
   "pygments_lexer": "ipython3",
   "version": "3.12.4"
  }
 },
 "nbformat": 4,
 "nbformat_minor": 5
}
