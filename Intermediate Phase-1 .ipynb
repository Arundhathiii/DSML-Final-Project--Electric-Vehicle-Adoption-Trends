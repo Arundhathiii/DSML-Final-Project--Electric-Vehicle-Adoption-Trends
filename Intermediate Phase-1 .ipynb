{
 "cells": [
  {
   "cell_type": "markdown",
   "id": "90643a7d-0d31-44d5-ac1b-3425ebd9e8ef",
   "metadata": {},
   "source": [
    "# Introduction\n",
    "The goal of this project is to analyze the Electric Vehicle Population Data dataset and predict the Base MSRP of electric vehicles based on their characteristics. The dataset contains information on various electric vehicle models, including their range, battery capacity, and price."
   ]
  },
  {
   "cell_type": "markdown",
   "id": "96edcc68-0e4f-4cf4-80f8-4854afe70a6f",
   "metadata": {},
   "source": [
    "## Problem Statement\n",
    "The goal of this project is to develop a predictive model that can accurately forecast the Base MSRP of electric vehicles based on their characteristics. This model can be used by EV manufacturers, policymakers, and industry analysts to better understand the factors that influence EV pricing and to make informed decisions.\n",
    "* Project Type : Supervised Learning - Regression\n",
    "* Target Variable: Base MSRP"
   ]
  },
  {
   "cell_type": "markdown",
   "id": "34d4dbbe-aece-422e-84f0-0f111b78add5",
   "metadata": {},
   "source": [
    "# Data Cleaning"
   ]
  },
  {
   "cell_type": "markdown",
   "id": "0b58ef3a-01bd-469f-a5bc-f2f7cf0ff2a5",
   "metadata": {},
   "source": [
    "## Importing necessary libraries"
   ]
  },
  {
   "cell_type": "code",
   "execution_count": 50,
   "id": "8febe572-47e4-4c7f-95c9-d4b5c7ea7fdf",
   "metadata": {},
   "outputs": [],
   "source": [
    "# to deactivate warnings\n",
    "import warnings\n",
    "import sys\n",
    "if not sys.warnoptions:\n",
    "    warnings.simplefilter(\"ignore\")"
   ]
  },
  {
   "cell_type": "code",
   "execution_count": 52,
   "id": "2db32838-65be-49be-ac53-6d7a6abc5403",
   "metadata": {},
   "outputs": [],
   "source": [
    "import numpy as np\n",
    "import pandas as pd\n",
    "import matplotlib.pyplot as plt\n",
    "import seaborn as sns"
   ]
  },
  {
   "cell_type": "markdown",
   "id": "1081e003-0cdd-415f-9a3e-d6102b2ac10f",
   "metadata": {},
   "source": [
    "## Loading the Dataset"
   ]
  },
  {
   "cell_type": "code",
   "execution_count": 57,
   "id": "cd5882f4-f38d-46f8-ab4c-2d6ed2b770cc",
   "metadata": {},
   "outputs": [],
   "source": [
    "data = pd.read_csv(\"C:\\\\Users\\\\aniru\\\\Downloads\\\\Electric_Vehicle_Population_Data (4).csv\")"
   ]
  },
  {
   "cell_type": "code",
   "execution_count": 59,
   "id": "6a493a77-eb2f-4c86-a94e-7c7a7d25c9ec",
   "metadata": {},
   "outputs": [
    {
     "name": "stdout",
     "output_type": "stream",
     "text": [
      "Shape of the dataset is: \n"
     ]
    },
    {
     "data": {
      "text/plain": [
       "(223995, 17)"
      ]
     },
     "execution_count": 59,
     "metadata": {},
     "output_type": "execute_result"
    }
   ],
   "source": [
    "print(\"Shape of the dataset is: \")\n",
    "data.shape"
   ]
  },
  {
   "cell_type": "code",
   "execution_count": 91,
   "id": "025c49d5-fdd1-4ef8-86a1-44dfee8e8385",
   "metadata": {},
   "outputs": [
    {
     "name": "stdout",
     "output_type": "stream",
     "text": [
      "Columns: \n"
     ]
    },
    {
     "data": {
      "text/plain": [
       "Index(['VIN (1-10)', 'County', 'City', 'State', 'Postal Code', 'Model Year',\n",
       "       'Make', 'Model', 'Electric Vehicle Type',\n",
       "       'Clean Alternative Fuel Vehicle (CAFV) Eligibility', 'Electric Range',\n",
       "       'Base MSRP', 'Legislative District', 'DOL Vehicle ID',\n",
       "       'Vehicle Location', 'Electric Utility', '2020 Census Tract'],\n",
       "      dtype='object')"
      ]
     },
     "execution_count": 91,
     "metadata": {},
     "output_type": "execute_result"
    }
   ],
   "source": [
    "print(\"Columns: \")\n",
    "data.columns"
   ]
  },
  {
   "cell_type": "code",
   "execution_count": 95,
   "id": "00a1d0a7-c21b-4d4a-a8d3-14d8476faf0a",
   "metadata": {},
   "outputs": [
    {
     "name": "stdout",
     "output_type": "stream",
     "text": [
      "Dataset Information:\n",
      "\t\n",
      "<class 'pandas.core.frame.DataFrame'>\n",
      "RangeIndex: 223995 entries, 0 to 223994\n",
      "Data columns (total 17 columns):\n",
      " #   Column                                             Non-Null Count   Dtype  \n",
      "---  ------                                             --------------   -----  \n",
      " 0   VIN (1-10)                                         223995 non-null  object \n",
      " 1   County                                             223995 non-null  object \n",
      " 2   City                                               223995 non-null  object \n",
      " 3   State                                              223995 non-null  object \n",
      " 4   Postal Code                                        223995 non-null  float64\n",
      " 5   Model Year                                         223995 non-null  int64  \n",
      " 6   Make                                               223995 non-null  object \n",
      " 7   Model                                              223995 non-null  object \n",
      " 8   Electric Vehicle Type                              223995 non-null  object \n",
      " 9   Clean Alternative Fuel Vehicle (CAFV) Eligibility  223995 non-null  object \n",
      " 10  Electric Range                                     223995 non-null  float64\n",
      " 11  Base MSRP                                          223995 non-null  float64\n",
      " 12  Legislative District                               223995 non-null  float64\n",
      " 13  DOL Vehicle ID                                     223995 non-null  int64  \n",
      " 14  Vehicle Location                                   223995 non-null  object \n",
      " 15  Electric Utility                                   223995 non-null  object \n",
      " 16  2020 Census Tract                                  223995 non-null  float64\n",
      "dtypes: float64(5), int64(2), object(10)\n",
      "memory usage: 29.1+ MB\n"
     ]
    }
   ],
   "source": [
    "print(\"Dataset Information:\")\n",
    "print(\"\\t\")\n",
    "data.info()"
   ]
  },
  {
   "cell_type": "code",
   "execution_count": 63,
   "id": "67c2cebb-97b5-4f37-add1-b2c6e9eddd4f",
   "metadata": {},
   "outputs": [
    {
     "name": "stdout",
     "output_type": "stream",
     "text": [
      "Summary Statistics: \n",
      "\t\n"
     ]
    },
    {
     "data": {
      "text/html": [
       "<div>\n",
       "<style scoped>\n",
       "    .dataframe tbody tr th:only-of-type {\n",
       "        vertical-align: middle;\n",
       "    }\n",
       "\n",
       "    .dataframe tbody tr th {\n",
       "        vertical-align: top;\n",
       "    }\n",
       "\n",
       "    .dataframe thead th {\n",
       "        text-align: right;\n",
       "    }\n",
       "</style>\n",
       "<table border=\"1\" class=\"dataframe\">\n",
       "  <thead>\n",
       "    <tr style=\"text-align: right;\">\n",
       "      <th></th>\n",
       "      <th>Postal Code</th>\n",
       "      <th>Model Year</th>\n",
       "      <th>Electric Range</th>\n",
       "      <th>Base MSRP</th>\n",
       "      <th>Legislative District</th>\n",
       "      <th>DOL Vehicle ID</th>\n",
       "      <th>2020 Census Tract</th>\n",
       "    </tr>\n",
       "  </thead>\n",
       "  <tbody>\n",
       "    <tr>\n",
       "      <th>count</th>\n",
       "      <td>223992.000000</td>\n",
       "      <td>223995.000000</td>\n",
       "      <td>223977.000000</td>\n",
       "      <td>223977.000000</td>\n",
       "      <td>223521.000000</td>\n",
       "      <td>2.239950e+05</td>\n",
       "      <td>2.239920e+05</td>\n",
       "    </tr>\n",
       "    <tr>\n",
       "      <th>mean</th>\n",
       "      <td>98176.491165</td>\n",
       "      <td>2021.264408</td>\n",
       "      <td>47.736187</td>\n",
       "      <td>829.894386</td>\n",
       "      <td>28.876361</td>\n",
       "      <td>2.329328e+08</td>\n",
       "      <td>5.297997e+10</td>\n",
       "    </tr>\n",
       "    <tr>\n",
       "      <th>std</th>\n",
       "      <td>2544.240509</td>\n",
       "      <td>2.989676</td>\n",
       "      <td>84.987140</td>\n",
       "      <td>7372.509049</td>\n",
       "      <td>14.911023</td>\n",
       "      <td>6.884329e+07</td>\n",
       "      <td>1.531491e+09</td>\n",
       "    </tr>\n",
       "    <tr>\n",
       "      <th>min</th>\n",
       "      <td>1731.000000</td>\n",
       "      <td>1999.000000</td>\n",
       "      <td>0.000000</td>\n",
       "      <td>0.000000</td>\n",
       "      <td>1.000000</td>\n",
       "      <td>4.385000e+03</td>\n",
       "      <td>1.001020e+09</td>\n",
       "    </tr>\n",
       "    <tr>\n",
       "      <th>25%</th>\n",
       "      <td>98052.000000</td>\n",
       "      <td>2020.000000</td>\n",
       "      <td>0.000000</td>\n",
       "      <td>0.000000</td>\n",
       "      <td>17.000000</td>\n",
       "      <td>2.008002e+08</td>\n",
       "      <td>5.303301e+10</td>\n",
       "    </tr>\n",
       "    <tr>\n",
       "      <th>50%</th>\n",
       "      <td>98126.000000</td>\n",
       "      <td>2022.000000</td>\n",
       "      <td>0.000000</td>\n",
       "      <td>0.000000</td>\n",
       "      <td>32.000000</td>\n",
       "      <td>2.482992e+08</td>\n",
       "      <td>5.303303e+10</td>\n",
       "    </tr>\n",
       "    <tr>\n",
       "      <th>75%</th>\n",
       "      <td>98374.000000</td>\n",
       "      <td>2023.000000</td>\n",
       "      <td>39.000000</td>\n",
       "      <td>0.000000</td>\n",
       "      <td>42.000000</td>\n",
       "      <td>2.673973e+08</td>\n",
       "      <td>5.305307e+10</td>\n",
       "    </tr>\n",
       "    <tr>\n",
       "      <th>max</th>\n",
       "      <td>99577.000000</td>\n",
       "      <td>2025.000000</td>\n",
       "      <td>337.000000</td>\n",
       "      <td>845000.000000</td>\n",
       "      <td>49.000000</td>\n",
       "      <td>4.792548e+08</td>\n",
       "      <td>5.602100e+10</td>\n",
       "    </tr>\n",
       "  </tbody>\n",
       "</table>\n",
       "</div>"
      ],
      "text/plain": [
       "         Postal Code     Model Year  Electric Range      Base MSRP  \\\n",
       "count  223992.000000  223995.000000   223977.000000  223977.000000   \n",
       "mean    98176.491165    2021.264408       47.736187     829.894386   \n",
       "std      2544.240509       2.989676       84.987140    7372.509049   \n",
       "min      1731.000000    1999.000000        0.000000       0.000000   \n",
       "25%     98052.000000    2020.000000        0.000000       0.000000   \n",
       "50%     98126.000000    2022.000000        0.000000       0.000000   \n",
       "75%     98374.000000    2023.000000       39.000000       0.000000   \n",
       "max     99577.000000    2025.000000      337.000000  845000.000000   \n",
       "\n",
       "       Legislative District  DOL Vehicle ID  2020 Census Tract  \n",
       "count         223521.000000    2.239950e+05       2.239920e+05  \n",
       "mean              28.876361    2.329328e+08       5.297997e+10  \n",
       "std               14.911023    6.884329e+07       1.531491e+09  \n",
       "min                1.000000    4.385000e+03       1.001020e+09  \n",
       "25%               17.000000    2.008002e+08       5.303301e+10  \n",
       "50%               32.000000    2.482992e+08       5.303303e+10  \n",
       "75%               42.000000    2.673973e+08       5.305307e+10  \n",
       "max               49.000000    4.792548e+08       5.602100e+10  "
      ]
     },
     "execution_count": 63,
     "metadata": {},
     "output_type": "execute_result"
    }
   ],
   "source": [
    "print(\"Summary Statistics: \")\n",
    "print(\"\\t\")\n",
    "data.describe()"
   ]
  },
  {
   "cell_type": "code",
   "execution_count": 97,
   "id": "30bfd818-c0de-49e3-b210-615dbeb55dcb",
   "metadata": {},
   "outputs": [
    {
     "name": "stdout",
     "output_type": "stream",
     "text": [
      "Unique Values: \n",
      "\t\n"
     ]
    },
    {
     "data": {
      "text/plain": [
       "VIN (1-10)                                            13175\n",
       "County                                                  207\n",
       "City                                                    789\n",
       "State                                                    48\n",
       "Postal Code                                             955\n",
       "Model Year                                               21\n",
       "Make                                                     46\n",
       "Model                                                   164\n",
       "Electric Vehicle Type                                     2\n",
       "Clean Alternative Fuel Vehicle (CAFV) Eligibility         3\n",
       "Electric Range                                          110\n",
       "Base MSRP                                                32\n",
       "Legislative District                                     49\n",
       "DOL Vehicle ID                                       223995\n",
       "Vehicle Location                                        952\n",
       "Electric Utility                                         76\n",
       "2020 Census Tract                                      2193\n",
       "dtype: int64"
      ]
     },
     "execution_count": 97,
     "metadata": {},
     "output_type": "execute_result"
    }
   ],
   "source": [
    "print(\"Unique Values: \")\n",
    "print(\"\\t\")\n",
    "data.nunique()"
   ]
  },
  {
   "cell_type": "markdown",
   "id": "1b87de78-7759-4254-a179-598aa365d67a",
   "metadata": {},
   "source": [
    "### Checking for the null values"
   ]
  },
  {
   "cell_type": "code",
   "execution_count": 75,
   "id": "624109e5-e7e9-48e6-8612-6b1560cb5416",
   "metadata": {},
   "outputs": [
    {
     "name": "stdout",
     "output_type": "stream",
     "text": [
      "Missing Values:\n",
      "\t\n",
      "VIN (1-10)                                             0\n",
      "County                                                 3\n",
      "City                                                   3\n",
      "State                                                  0\n",
      "Postal Code                                            3\n",
      "Model Year                                             0\n",
      "Make                                                   0\n",
      "Model                                                  0\n",
      "Electric Vehicle Type                                  0\n",
      "Clean Alternative Fuel Vehicle (CAFV) Eligibility      0\n",
      "Electric Range                                        18\n",
      "Base MSRP                                             18\n",
      "Legislative District                                 474\n",
      "DOL Vehicle ID                                         0\n",
      "Vehicle Location                                      10\n",
      "Electric Utility                                       3\n",
      "2020 Census Tract                                      3\n",
      "dtype: int64\n"
     ]
    }
   ],
   "source": [
    "missing_values = data.isnull().sum()\n",
    "print(\"Missing Values:\")\n",
    "print(\"\\t\")\n",
    "print(missing_values)"
   ]
  },
  {
   "cell_type": "markdown",
   "id": "95151c7a-ebeb-4143-b178-c36a5a41f958",
   "metadata": {},
   "source": [
    "### Handling Missing Values\n",
    "* Fill the missing values with mean, median, and mode (For numerical columns )"
   ]
  },
  {
   "cell_type": "code",
   "execution_count": 77,
   "id": "99812fde-c9f6-4098-b2fc-774141abd8cc",
   "metadata": {},
   "outputs": [],
   "source": [
    "data['Electric Range'].fillna(data['Electric Range'].mean(), inplace=True)\n",
    "data['Base MSRP'].fillna(data['Base MSRP'].mean(), inplace=True)\n",
    "data['Postal Code'].fillna(data['Postal Code'].mean(), inplace=True)\n",
    "data['2020 Census Tract'].fillna(data['2020 Census Tract'].mean(), inplace=True)"
   ]
  },
  {
   "cell_type": "markdown",
   "id": "09830e23-14f9-4c84-8748-d65e60be033b",
   "metadata": {},
   "source": [
    "* Fill categorical columns with mode"
   ]
  },
  {
   "cell_type": "code",
   "execution_count": 79,
   "id": "cf2d2f7f-dc9f-4a1c-9c84-bcf846cc51b2",
   "metadata": {},
   "outputs": [],
   "source": [
    "data['County'].fillna(data['County'].mode()[0], inplace=True)\n",
    "data['City'].fillna(data['City'].mode()[0], inplace=True)\n",
    "data['State'].fillna(data['State'].mode()[0], inplace=True)\n",
    "data['Vehicle Location'].fillna(data['Vehicle Location'].mode()[0], inplace=True)\n",
    "data['Electric Utility'].fillna(data['Electric Utility'].mode()[0], inplace=True)\n",
    "data['Legislative District'].fillna(data['Legislative District'].mode()[0], inplace=True)"
   ]
  },
  {
   "cell_type": "code",
   "execution_count": 81,
   "id": "ac0703c7-a44e-4a1a-b1dd-8fdfad4e05ed",
   "metadata": {},
   "outputs": [
    {
     "name": "stdout",
     "output_type": "stream",
     "text": [
      "Missing Values after Imputation:\n",
      "VIN (1-10)                                           0\n",
      "County                                               0\n",
      "City                                                 0\n",
      "State                                                0\n",
      "Postal Code                                          0\n",
      "Model Year                                           0\n",
      "Make                                                 0\n",
      "Model                                                0\n",
      "Electric Vehicle Type                                0\n",
      "Clean Alternative Fuel Vehicle (CAFV) Eligibility    0\n",
      "Electric Range                                       0\n",
      "Base MSRP                                            0\n",
      "Legislative District                                 0\n",
      "DOL Vehicle ID                                       0\n",
      "Vehicle Location                                     0\n",
      "Electric Utility                                     0\n",
      "2020 Census Tract                                    0\n",
      "dtype: int64\n"
     ]
    }
   ],
   "source": [
    "# Checking for the null values\n",
    "missing_values = data.isnull().sum()\n",
    "print(\"Missing Values after Imputation:\")\n",
    "print(missing_values)"
   ]
  },
  {
   "cell_type": "markdown",
   "id": "10ef76d3-79cf-469a-a417-698995d83c7b",
   "metadata": {},
   "source": [
    "### Checking for duplicates"
   ]
  },
  {
   "cell_type": "code",
   "execution_count": 85,
   "id": "36a21c2d-f858-42b8-a2ee-9aadb5eec8a2",
   "metadata": {},
   "outputs": [
    {
     "name": "stdout",
     "output_type": "stream",
     "text": [
      "\t\n",
      "Total number of duplicate values is : 0\n"
     ]
    }
   ],
   "source": [
    "print(\"\\t\")\n",
    "print(f\"Total number of duplicate values is : {data.duplicated().sum()}\")"
   ]
  },
  {
   "cell_type": "code",
   "execution_count": null,
   "id": "db063f67-d4ee-46bc-9617-315103a0a1d7",
   "metadata": {},
   "outputs": [],
   "source": []
  },
  {
   "cell_type": "code",
   "execution_count": null,
   "id": "6c6b9fb5-303f-4ac9-9cd8-a614674d193b",
   "metadata": {},
   "outputs": [],
   "source": []
  }
 ],
 "metadata": {
  "kernelspec": {
   "display_name": "Python 3 (ipykernel)",
   "language": "python",
   "name": "python3"
  },
  "language_info": {
   "codemirror_mode": {
    "name": "ipython",
    "version": 3
   },
   "file_extension": ".py",
   "mimetype": "text/x-python",
   "name": "python",
   "nbconvert_exporter": "python",
   "pygments_lexer": "ipython3",
   "version": "3.12.4"
  }
 },
 "nbformat": 4,
 "nbformat_minor": 5
}
